{
 "cells": [
  {
   "attachments": {},
   "cell_type": "markdown",
   "metadata": {},
   "source": [
    "# PROJETO INTEGRADOR III - Modelo de aprendizagem de máquina"
   ]
  },
  {
   "attachments": {},
   "cell_type": "markdown",
   "metadata": {},
   "source": [
    "### Parâmetros que podem ser usados para definir a aprovação:\n",
    "\n",
    "- nota (de cada área de conhecimento e com peso, mesmo que todos sejam iguais a 1);\n",
    "- cotas (vou precisar tratar isso aqui);\n",
    "- notas de corte;\n",
    "- curso (vou precisar tratar isso aqui);\n",
    "- universidade (vou precisar tratar isso aqui: campus, IES ou o que?);\n",
    "- Local da IES;\n",
    "- local do candidato;\n"
   ]
  },
  {
   "attachments": {},
   "cell_type": "markdown",
   "metadata": {},
   "source": [
    "### feature engineering\n",
    "\n",
    "pontos importantes para serem destacados:\n",
    "\n",
    "- *notas*: tratar os dados que estão fora da distribuição normal;\n",
    "- *cotas, curso e universidade*: considerar usar um target encoding ou count encoding;\n",
    "- *notas de corte*: talvez não será necessário passar por um tratamento;\n",
    "- *locais*: pode ser usado um label encoding, mas é necessário avaliar o contexto. oneHotEncoding seria muito custoso ( 27 * 2 + 54 = 108 colunas).\n"
   ]
  },
  {
   "attachments": {},
   "cell_type": "markdown",
   "metadata": {},
   "source": [
    "### Avaliação de modelo de linguagem\n",
    "precisão, recall, acurácia e área sob a curva ROC (Receiver Operating Characteristic).\n"
   ]
  },
  {
   "cell_type": "code",
   "execution_count": 1,
   "metadata": {},
   "outputs": [],
   "source": [
    "# dataframes\n",
    "import pandas as pd\n",
    "import numpy as np\n",
    "\n",
    "# visualizacao\n",
    "import matplotlib.pyplot as plt\n",
    "\n",
    "# conexão com o banco de dados\n",
    "import psycopg2 as pspg\n",
    "CONN = pspg.connect(database='notas', user='dev', password='dev', host='localhost', port='5030')\n",
    "\n",
    "# feature engineering\n",
    "from category_encoders.target_encoder import TargetEncoder\n",
    "from category_encoders.count import CountEncoder\n",
    "from sklearn.preprocessing import (OrdinalEncoder, OneHotEncoder, Normalizer, StandardScaler )\n",
    "\n",
    "# algoritmos de classificação \n",
    "from sklearn.tree import DecisionTreeClassifier\n",
    "from sklearn.naive_bayes import MultinomialNB\n",
    "from sklearn.neighbors import NearestNeighbors\n",
    "\n",
    "# metricas e validacoes\n",
    "from sklearn.metrics import ( accuracy_score, precision_score, recall_score, f1_score, confusion_matrix, classification_report, roc_curve )\n",
    "from sklearn.model_selection import cross_val_score, train_test_split\n"
   ]
  },
  {
   "cell_type": "code",
   "execution_count": 2,
   "metadata": {},
   "outputs": [
    {
     "name": "stderr",
     "output_type": "stream",
     "text": [
      "/tmp/ipykernel_178394/2970485217.py:1: UserWarning: pandas only supports SQLAlchemy connectable (engine/connection) or database string URI or sqlite3 DBAPI2 connection. Other DBAPI2 objects are not tested. Please consider using SQLAlchemy.\n",
      "  df = pd.read_sql('''\n"
     ]
    }
   ],
   "source": [
    "df = pd.read_sql('''\n",
    "  select \n",
    "    nota_l,\n",
    "    nota_ch,\n",
    "    nota_cn,\n",
    "    nota_m,\n",
    "    nota_r,\n",
    "    nota_l_com_peso,\n",
    "    nota_ch_com_peso,\n",
    "    nota_cn_com_peso,\n",
    "    nota_m_com_peso,\n",
    "    nota_r_com_peso,\n",
    "    nota_candidato,\n",
    "    tipo_mod_concorrencia,\n",
    "    tp_cota,\n",
    "    uf_ies,\n",
    "    uf_candidato,\n",
    "    nome_curso,\n",
    "    nome_ies,\n",
    "    aprovado\n",
    "  from sisu_data\n",
    "  tablesample bernoulli(25)\n",
    "  ''', con=CONN)\n",
    "CONN.close()"
   ]
  },
  {
   "attachments": {},
   "cell_type": "markdown",
   "metadata": {},
   "source": [
    "## ENGINEERING"
   ]
  },
  {
   "attachments": {},
   "cell_type": "markdown",
   "metadata": {},
   "source": [
    "## modalidade de concorrência: _one hot encoding_"
   ]
  },
  {
   "attachments": {},
   "cell_type": "markdown",
   "metadata": {},
   "source": [
    "tirando espaços em branco da coluna `tp_cota`"
   ]
  },
  {
   "cell_type": "code",
   "execution_count": 3,
   "metadata": {},
   "outputs": [
    {
     "data": {
      "text/plain": [
       "array([None, 'PPI', 'D', 'PPID', 'DD', 'I', 'PP', 'PPD'], dtype=object)"
      ]
     },
     "execution_count": 3,
     "metadata": {},
     "output_type": "execute_result"
    }
   ],
   "source": [
    "df['tp_cota'] = df['tp_cota'].str.strip()\n",
    "df['tp_cota'].unique()"
   ]
  },
  {
   "cell_type": "code",
   "execution_count": 4,
   "metadata": {},
   "outputs": [
    {
     "name": "stdout",
     "output_type": "stream",
     "text": [
      "(3864339, 18)\n",
      "(3864339, 30)\n"
     ]
    }
   ],
   "source": [
    "ohe = OneHotEncoder(sparse_output=False, handle_unknown='ignore')\n",
    "columns = ['tipo_mod_concorrencia',  'tp_cota']\n",
    "\n",
    "print(df.shape)\n",
    "for column in columns:\n",
    "    transformed = ohe.fit_transform(df[column].values.reshape(-1, 1))\n",
    "    ohe_df = pd.DataFrame(transformed, columns=ohe.get_feature_names_out([column]))\n",
    "    df = pd.concat([df, ohe_df], axis=1)\n",
    "\n",
    "print(df.shape)"
   ]
  },
  {
   "attachments": {},
   "cell_type": "markdown",
   "metadata": {},
   "source": [
    "### Unidades Federativas: _Ordinal Encoding_ por ordem de concorrência"
   ]
  },
  {
   "cell_type": "code",
   "execution_count": 5,
   "metadata": {},
   "outputs": [],
   "source": [
    "ordinals = ['uf_ies', 'uf_candidato', 'aprovado']\n",
    "le = None\n",
    "for column in ordinals:\n",
    "    estados_ordenados = df.groupby(column)['nota_candidato'].mean().sort_values(ascending=False).index\n",
    "    le = OrdinalEncoder(categories=[estados_ordenados.tolist()])\n",
    "    df[f\"{column}_le\"] = le.fit_transform(df[column].values.reshape(-1, 1), estados_ordenados)\n",
    "\n"
   ]
  },
  {
   "attachments": {},
   "cell_type": "markdown",
   "metadata": {},
   "source": [
    "## Universidades e Cursos: Codificação de frequência (_Count Encoder_)"
   ]
  },
  {
   "cell_type": "code",
   "execution_count": 6,
   "metadata": {},
   "outputs": [],
   "source": [
    "counters = [ 'nome_curso', 'nome_ies']\n",
    "ce = CountEncoder()\n",
    "for column in counters:\n",
    "    transformed = ce.fit_transform(df[column].values.reshape(-1, 1))\n",
    "    df[f\"{column}_ce\"] = ce.fit_transform(df[column].values.reshape(-1, 1))"
   ]
  },
  {
   "attachments": {},
   "cell_type": "markdown",
   "metadata": {},
   "source": [
    "### notas: removendo outliers"
   ]
  },
  {
   "attachments": {},
   "cell_type": "markdown",
   "metadata": {},
   "source": [
    "removendo as notas consideradas _outliers_ do conjunto de dados para fazer o treinamento "
   ]
  },
  {
   "cell_type": "code",
   "execution_count": 7,
   "metadata": {},
   "outputs": [],
   "source": [
    "df_filtrado = df.copy()\n",
    "notas = ['nota_l','nota_ch', 'nota_cn',\n",
    "        'nota_m', 'nota_r', 'nota_candidato']\n",
    "\n",
    "\n",
    "for nota in notas:\n",
    "    primeiro_quartil = df[nota].quantile(0.25)\n",
    "    terceiro_quartil = df[nota].quantile(0.75)\n",
    "    iqr = terceiro_quartil - primeiro_quartil\n",
    "    limite_inferior = primeiro_quartil - 1.5 * iqr\n",
    "    limite_superior = terceiro_quartil + 1.5 * iqr\n",
    "    df_filtrado = df_filtrado[(df_filtrado[nota] >= limite_inferior) & (df_filtrado[nota] <= limite_superior)]\n"
   ]
  },
  {
   "cell_type": "code",
   "execution_count": 8,
   "metadata": {},
   "outputs": [],
   "source": [
    "# colunas_necessárias\n",
    "ml_params = [\n",
    "    'nota_l_com_peso',          #ok\n",
    "    'nota_ch_com_peso',         #ok\n",
    "    'nota_cn_com_peso',         #ok\n",
    "    'nota_m_com_peso',          #ok\n",
    "    'nota_r_com_peso',          #ok\n",
    "    'nota_candidato',           #ok\n",
    "    # 'nota_corte',               # pegar a média do curso por universidade?\n",
    "\n",
    "#    'qt_vagas_concorrencia',    # ajudaria muito, mas tem muitos registros NaN. sem chances de usar\n",
    "    # tipo_mod_concorrencia com oneHotEncoder\n",
    "    'tipo_mod_concorrencia_A', # ok\n",
    "    'tipo_mod_concorrencia_B', # ok\n",
    "    'tipo_mod_concorrencia_L', # ok\n",
    "    'tipo_mod_concorrencia_V', # ok\n",
    "    'tp_cota_D',               # ok\n",
    "    'tp_cota_DD',              # ok\n",
    "    'tp_cota_I',               # ok\n",
    "    'tp_cota_PP',              # ok\n",
    "    'tp_cota_PPD',             # ok\n",
    "    'tp_cota_PPID',            # ok\n",
    "    'tp_cota_None',            # ok\n",
    "    'uf_ies_le',                  # ok\n",
    "    'uf_candidato_le',            # ok\n",
    "    'nome_curso_ce',\n",
    "    'nome_ies_ce',\n",
    "    'aprovado_le',\n",
    "    ]\n",
    "\n",
    "output_desejado = 'aprovado_le'"
   ]
  },
  {
   "attachments": {},
   "cell_type": "markdown",
   "metadata": {},
   "source": [
    "## Treinando o modelo"
   ]
  },
  {
   "attachments": {},
   "cell_type": "markdown",
   "metadata": {},
   "source": [
    "Modelos de M.L que podem ser usados:\n",
    "  - *Decision Tree*;\n",
    "  - *Naive Bayes*;\n"
   ]
  },
  {
   "cell_type": "code",
   "execution_count": 9,
   "metadata": {},
   "outputs": [],
   "source": [
    "data_treinamento = df_filtrado[ml_params].sample(frac=0.9)\n",
    "target = data_treinamento[output_desejado]\n",
    "data_treinamento = data_treinamento.drop(output_desejado, axis=1)\n",
    "\n",
    "data_validacao = df_filtrado.drop(data_treinamento.index)\n",
    "target_validacao = data_validacao[output_desejado]\n",
    "data_validacao = data_validacao.drop(output_desejado, axis=1)\n"
   ]
  },
  {
   "cell_type": "code",
   "execution_count": 10,
   "metadata": {},
   "outputs": [
    {
     "data": {
      "text/html": [
       "<div>\n",
       "<style scoped>\n",
       "    .dataframe tbody tr th:only-of-type {\n",
       "        vertical-align: middle;\n",
       "    }\n",
       "\n",
       "    .dataframe tbody tr th {\n",
       "        vertical-align: top;\n",
       "    }\n",
       "\n",
       "    .dataframe thead th {\n",
       "        text-align: right;\n",
       "    }\n",
       "</style>\n",
       "<table border=\"1\" class=\"dataframe\">\n",
       "  <thead>\n",
       "    <tr style=\"text-align: right;\">\n",
       "      <th></th>\n",
       "      <th>nota_l_com_peso</th>\n",
       "      <th>nota_ch_com_peso</th>\n",
       "      <th>nota_cn_com_peso</th>\n",
       "      <th>nota_m_com_peso</th>\n",
       "      <th>nota_r_com_peso</th>\n",
       "      <th>nota_candidato</th>\n",
       "      <th>tipo_mod_concorrencia_A</th>\n",
       "      <th>tipo_mod_concorrencia_B</th>\n",
       "      <th>tipo_mod_concorrencia_L</th>\n",
       "      <th>tipo_mod_concorrencia_V</th>\n",
       "      <th>...</th>\n",
       "      <th>tp_cota_DD</th>\n",
       "      <th>tp_cota_I</th>\n",
       "      <th>tp_cota_PP</th>\n",
       "      <th>tp_cota_PPD</th>\n",
       "      <th>tp_cota_PPID</th>\n",
       "      <th>tp_cota_None</th>\n",
       "      <th>uf_ies_le</th>\n",
       "      <th>uf_candidato_le</th>\n",
       "      <th>nome_curso_ce</th>\n",
       "      <th>nome_ies_ce</th>\n",
       "    </tr>\n",
       "  </thead>\n",
       "  <tbody>\n",
       "    <tr>\n",
       "      <th>0</th>\n",
       "      <td>454.3</td>\n",
       "      <td>510.8</td>\n",
       "      <td>943.4</td>\n",
       "      <td>2645.6</td>\n",
       "      <td>2580.0</td>\n",
       "      <td>648.55</td>\n",
       "      <td>1.0</td>\n",
       "      <td>0.0</td>\n",
       "      <td>0.0</td>\n",
       "      <td>0.0</td>\n",
       "      <td>...</td>\n",
       "      <td>0.0</td>\n",
       "      <td>0.0</td>\n",
       "      <td>0.0</td>\n",
       "      <td>0.0</td>\n",
       "      <td>0.0</td>\n",
       "      <td>1.0</td>\n",
       "      <td>1.0</td>\n",
       "      <td>3.0</td>\n",
       "      <td>36861</td>\n",
       "      <td>13526</td>\n",
       "    </tr>\n",
       "    <tr>\n",
       "      <th>1</th>\n",
       "      <td>578.7</td>\n",
       "      <td>604.4</td>\n",
       "      <td>969.2</td>\n",
       "      <td>2594.0</td>\n",
       "      <td>1980.0</td>\n",
       "      <td>611.48</td>\n",
       "      <td>1.0</td>\n",
       "      <td>0.0</td>\n",
       "      <td>0.0</td>\n",
       "      <td>0.0</td>\n",
       "      <td>...</td>\n",
       "      <td>0.0</td>\n",
       "      <td>0.0</td>\n",
       "      <td>0.0</td>\n",
       "      <td>0.0</td>\n",
       "      <td>0.0</td>\n",
       "      <td>1.0</td>\n",
       "      <td>1.0</td>\n",
       "      <td>3.0</td>\n",
       "      <td>36861</td>\n",
       "      <td>13526</td>\n",
       "    </tr>\n",
       "    <tr>\n",
       "      <th>2</th>\n",
       "      <td>607.7</td>\n",
       "      <td>713.0</td>\n",
       "      <td>1295.0</td>\n",
       "      <td>3144.4</td>\n",
       "      <td>2700.0</td>\n",
       "      <td>769.10</td>\n",
       "      <td>1.0</td>\n",
       "      <td>0.0</td>\n",
       "      <td>0.0</td>\n",
       "      <td>0.0</td>\n",
       "      <td>...</td>\n",
       "      <td>0.0</td>\n",
       "      <td>0.0</td>\n",
       "      <td>0.0</td>\n",
       "      <td>0.0</td>\n",
       "      <td>0.0</td>\n",
       "      <td>1.0</td>\n",
       "      <td>1.0</td>\n",
       "      <td>3.0</td>\n",
       "      <td>36861</td>\n",
       "      <td>13526</td>\n",
       "    </tr>\n",
       "    <tr>\n",
       "      <th>3</th>\n",
       "      <td>615.1</td>\n",
       "      <td>645.1</td>\n",
       "      <td>1334.8</td>\n",
       "      <td>2972.4</td>\n",
       "      <td>2040.0</td>\n",
       "      <td>691.58</td>\n",
       "      <td>1.0</td>\n",
       "      <td>0.0</td>\n",
       "      <td>0.0</td>\n",
       "      <td>0.0</td>\n",
       "      <td>...</td>\n",
       "      <td>0.0</td>\n",
       "      <td>0.0</td>\n",
       "      <td>0.0</td>\n",
       "      <td>0.0</td>\n",
       "      <td>0.0</td>\n",
       "      <td>1.0</td>\n",
       "      <td>1.0</td>\n",
       "      <td>3.0</td>\n",
       "      <td>36861</td>\n",
       "      <td>13526</td>\n",
       "    </tr>\n",
       "    <tr>\n",
       "      <th>4</th>\n",
       "      <td>599.2</td>\n",
       "      <td>682.8</td>\n",
       "      <td>1113.6</td>\n",
       "      <td>2107.2</td>\n",
       "      <td>2580.0</td>\n",
       "      <td>643.89</td>\n",
       "      <td>1.0</td>\n",
       "      <td>0.0</td>\n",
       "      <td>0.0</td>\n",
       "      <td>0.0</td>\n",
       "      <td>...</td>\n",
       "      <td>0.0</td>\n",
       "      <td>0.0</td>\n",
       "      <td>0.0</td>\n",
       "      <td>0.0</td>\n",
       "      <td>0.0</td>\n",
       "      <td>1.0</td>\n",
       "      <td>1.0</td>\n",
       "      <td>3.0</td>\n",
       "      <td>36861</td>\n",
       "      <td>13526</td>\n",
       "    </tr>\n",
       "    <tr>\n",
       "      <th>...</th>\n",
       "      <td>...</td>\n",
       "      <td>...</td>\n",
       "      <td>...</td>\n",
       "      <td>...</td>\n",
       "      <td>...</td>\n",
       "      <td>...</td>\n",
       "      <td>...</td>\n",
       "      <td>...</td>\n",
       "      <td>...</td>\n",
       "      <td>...</td>\n",
       "      <td>...</td>\n",
       "      <td>...</td>\n",
       "      <td>...</td>\n",
       "      <td>...</td>\n",
       "      <td>...</td>\n",
       "      <td>...</td>\n",
       "      <td>...</td>\n",
       "      <td>...</td>\n",
       "      <td>...</td>\n",
       "      <td>...</td>\n",
       "      <td>...</td>\n",
       "    </tr>\n",
       "    <tr>\n",
       "      <th>3864334</th>\n",
       "      <td>575.4</td>\n",
       "      <td>628.0</td>\n",
       "      <td>593.4</td>\n",
       "      <td>592.1</td>\n",
       "      <td>1400.0</td>\n",
       "      <td>631.48</td>\n",
       "      <td>1.0</td>\n",
       "      <td>0.0</td>\n",
       "      <td>0.0</td>\n",
       "      <td>0.0</td>\n",
       "      <td>...</td>\n",
       "      <td>0.0</td>\n",
       "      <td>0.0</td>\n",
       "      <td>0.0</td>\n",
       "      <td>0.0</td>\n",
       "      <td>0.0</td>\n",
       "      <td>1.0</td>\n",
       "      <td>1.0</td>\n",
       "      <td>3.0</td>\n",
       "      <td>5096</td>\n",
       "      <td>45731</td>\n",
       "    </tr>\n",
       "    <tr>\n",
       "      <th>3864335</th>\n",
       "      <td>658.1</td>\n",
       "      <td>689.4</td>\n",
       "      <td>537.1</td>\n",
       "      <td>646.5</td>\n",
       "      <td>1400.0</td>\n",
       "      <td>655.18</td>\n",
       "      <td>0.0</td>\n",
       "      <td>0.0</td>\n",
       "      <td>1.0</td>\n",
       "      <td>0.0</td>\n",
       "      <td>...</td>\n",
       "      <td>0.0</td>\n",
       "      <td>0.0</td>\n",
       "      <td>0.0</td>\n",
       "      <td>0.0</td>\n",
       "      <td>0.0</td>\n",
       "      <td>1.0</td>\n",
       "      <td>1.0</td>\n",
       "      <td>3.0</td>\n",
       "      <td>5096</td>\n",
       "      <td>45731</td>\n",
       "    </tr>\n",
       "    <tr>\n",
       "      <th>3864336</th>\n",
       "      <td>526.7</td>\n",
       "      <td>522.5</td>\n",
       "      <td>428.2</td>\n",
       "      <td>483.8</td>\n",
       "      <td>1520.0</td>\n",
       "      <td>580.20</td>\n",
       "      <td>0.0</td>\n",
       "      <td>0.0</td>\n",
       "      <td>1.0</td>\n",
       "      <td>0.0</td>\n",
       "      <td>...</td>\n",
       "      <td>0.0</td>\n",
       "      <td>0.0</td>\n",
       "      <td>0.0</td>\n",
       "      <td>0.0</td>\n",
       "      <td>0.0</td>\n",
       "      <td>1.0</td>\n",
       "      <td>1.0</td>\n",
       "      <td>3.0</td>\n",
       "      <td>5096</td>\n",
       "      <td>45731</td>\n",
       "    </tr>\n",
       "    <tr>\n",
       "      <th>3864337</th>\n",
       "      <td>517.8</td>\n",
       "      <td>628.8</td>\n",
       "      <td>558.3</td>\n",
       "      <td>617.7</td>\n",
       "      <td>1320.0</td>\n",
       "      <td>607.10</td>\n",
       "      <td>1.0</td>\n",
       "      <td>0.0</td>\n",
       "      <td>0.0</td>\n",
       "      <td>0.0</td>\n",
       "      <td>...</td>\n",
       "      <td>0.0</td>\n",
       "      <td>0.0</td>\n",
       "      <td>0.0</td>\n",
       "      <td>0.0</td>\n",
       "      <td>0.0</td>\n",
       "      <td>1.0</td>\n",
       "      <td>1.0</td>\n",
       "      <td>3.0</td>\n",
       "      <td>5096</td>\n",
       "      <td>45731</td>\n",
       "    </tr>\n",
       "    <tr>\n",
       "      <th>3864338</th>\n",
       "      <td>408.2</td>\n",
       "      <td>532.8</td>\n",
       "      <td>403.6</td>\n",
       "      <td>558.6</td>\n",
       "      <td>1160.0</td>\n",
       "      <td>510.53</td>\n",
       "      <td>0.0</td>\n",
       "      <td>0.0</td>\n",
       "      <td>1.0</td>\n",
       "      <td>0.0</td>\n",
       "      <td>...</td>\n",
       "      <td>0.0</td>\n",
       "      <td>0.0</td>\n",
       "      <td>0.0</td>\n",
       "      <td>0.0</td>\n",
       "      <td>0.0</td>\n",
       "      <td>1.0</td>\n",
       "      <td>1.0</td>\n",
       "      <td>3.0</td>\n",
       "      <td>5096</td>\n",
       "      <td>45731</td>\n",
       "    </tr>\n",
       "  </tbody>\n",
       "</table>\n",
       "<p>3794826 rows × 21 columns</p>\n",
       "</div>"
      ],
      "text/plain": [
       "         nota_l_com_peso  nota_ch_com_peso  nota_cn_com_peso  nota_m_com_peso  \\\n",
       "0                  454.3             510.8             943.4           2645.6   \n",
       "1                  578.7             604.4             969.2           2594.0   \n",
       "2                  607.7             713.0            1295.0           3144.4   \n",
       "3                  615.1             645.1            1334.8           2972.4   \n",
       "4                  599.2             682.8            1113.6           2107.2   \n",
       "...                  ...               ...               ...              ...   \n",
       "3864334            575.4             628.0             593.4            592.1   \n",
       "3864335            658.1             689.4             537.1            646.5   \n",
       "3864336            526.7             522.5             428.2            483.8   \n",
       "3864337            517.8             628.8             558.3            617.7   \n",
       "3864338            408.2             532.8             403.6            558.6   \n",
       "\n",
       "         nota_r_com_peso  nota_candidato  tipo_mod_concorrencia_A  \\\n",
       "0                 2580.0          648.55                      1.0   \n",
       "1                 1980.0          611.48                      1.0   \n",
       "2                 2700.0          769.10                      1.0   \n",
       "3                 2040.0          691.58                      1.0   \n",
       "4                 2580.0          643.89                      1.0   \n",
       "...                  ...             ...                      ...   \n",
       "3864334           1400.0          631.48                      1.0   \n",
       "3864335           1400.0          655.18                      0.0   \n",
       "3864336           1520.0          580.20                      0.0   \n",
       "3864337           1320.0          607.10                      1.0   \n",
       "3864338           1160.0          510.53                      0.0   \n",
       "\n",
       "         tipo_mod_concorrencia_B  tipo_mod_concorrencia_L  \\\n",
       "0                            0.0                      0.0   \n",
       "1                            0.0                      0.0   \n",
       "2                            0.0                      0.0   \n",
       "3                            0.0                      0.0   \n",
       "4                            0.0                      0.0   \n",
       "...                          ...                      ...   \n",
       "3864334                      0.0                      0.0   \n",
       "3864335                      0.0                      1.0   \n",
       "3864336                      0.0                      1.0   \n",
       "3864337                      0.0                      0.0   \n",
       "3864338                      0.0                      1.0   \n",
       "\n",
       "         tipo_mod_concorrencia_V  ...  tp_cota_DD  tp_cota_I  tp_cota_PP  \\\n",
       "0                            0.0  ...         0.0        0.0         0.0   \n",
       "1                            0.0  ...         0.0        0.0         0.0   \n",
       "2                            0.0  ...         0.0        0.0         0.0   \n",
       "3                            0.0  ...         0.0        0.0         0.0   \n",
       "4                            0.0  ...         0.0        0.0         0.0   \n",
       "...                          ...  ...         ...        ...         ...   \n",
       "3864334                      0.0  ...         0.0        0.0         0.0   \n",
       "3864335                      0.0  ...         0.0        0.0         0.0   \n",
       "3864336                      0.0  ...         0.0        0.0         0.0   \n",
       "3864337                      0.0  ...         0.0        0.0         0.0   \n",
       "3864338                      0.0  ...         0.0        0.0         0.0   \n",
       "\n",
       "         tp_cota_PPD  tp_cota_PPID  tp_cota_None  uf_ies_le  uf_candidato_le  \\\n",
       "0                0.0           0.0           1.0        1.0              3.0   \n",
       "1                0.0           0.0           1.0        1.0              3.0   \n",
       "2                0.0           0.0           1.0        1.0              3.0   \n",
       "3                0.0           0.0           1.0        1.0              3.0   \n",
       "4                0.0           0.0           1.0        1.0              3.0   \n",
       "...              ...           ...           ...        ...              ...   \n",
       "3864334          0.0           0.0           1.0        1.0              3.0   \n",
       "3864335          0.0           0.0           1.0        1.0              3.0   \n",
       "3864336          0.0           0.0           1.0        1.0              3.0   \n",
       "3864337          0.0           0.0           1.0        1.0              3.0   \n",
       "3864338          0.0           0.0           1.0        1.0              3.0   \n",
       "\n",
       "         nome_curso_ce  nome_ies_ce  \n",
       "0                36861        13526  \n",
       "1                36861        13526  \n",
       "2                36861        13526  \n",
       "3                36861        13526  \n",
       "4                36861        13526  \n",
       "...                ...          ...  \n",
       "3864334           5096        45731  \n",
       "3864335           5096        45731  \n",
       "3864336           5096        45731  \n",
       "3864337           5096        45731  \n",
       "3864338           5096        45731  \n",
       "\n",
       "[3794826 rows x 21 columns]"
      ]
     },
     "execution_count": 10,
     "metadata": {},
     "output_type": "execute_result"
    }
   ],
   "source": [
    "df_filtrado[ml_params].drop('aprovado_le', axis=1)"
   ]
  },
  {
   "cell_type": "code",
   "execution_count": 11,
   "metadata": {},
   "outputs": [],
   "source": [
    "X_train, X_val_test, y_train, y_val_test = \\\n",
    "train_test_split(\n",
    "    df_filtrado[ml_params].drop(output_desejado, axis=1), \n",
    "    df_filtrado[output_desejado], \n",
    "    test_size=0.1, \n",
    "    random_state=42\n",
    ")\n",
    "\n",
    "X_test, X_val, y_test, y_val = \\\n",
    "    train_test_split(X_val_test, y_val_test, test_size=0.5, random_state=42)\n"
   ]
  },
  {
   "cell_type": "code",
   "execution_count": 12,
   "metadata": {},
   "outputs": [],
   "source": [
    "n_bayes = MultinomialNB() #.fit(X_train, y_train)\n",
    "decision_tree = DecisionTreeClassifier(random_state=0, criterion='log_loss', max_depth=4) # .fit(X_train, y_train)\n"
   ]
  },
  {
   "cell_type": "code",
   "execution_count": 13,
   "metadata": {},
   "outputs": [
    {
     "name": "stdout",
     "output_type": "stream",
     "text": [
      "MultinomialNB()\n",
      "0.48252576728177504\n",
      "\n",
      "\n",
      "DecisionTreeClassifier(criterion='log_loss', max_depth=4, random_state=0)\n",
      "0.9239900648337613\n",
      "\n",
      "\n"
     ]
    }
   ],
   "source": [
    "models = [n_bayes, decision_tree]\n",
    "\n",
    "for model in models:\n",
    "    print(model)\n",
    "    print(cross_val_score(model, X_train, y_train, cv=10).mean())\n",
    "    print()\n",
    "    print()\n",
    "\n",
    "# print(nbrs)\n",
    "# print(cross_val_score(nbrs, X_train, y_train, cv=10, scoring='neg_mean_squared_error').mean())\n"
   ]
  },
  {
   "cell_type": "code",
   "execution_count": 14,
   "metadata": {},
   "outputs": [],
   "source": [
    "n_bayes.fit(X_train, y_train)\n",
    "decision_tree.fit(X_train, y_train)\n",
    "\n",
    "y_pred_test_nb = n_bayes.predict(X_test)\n",
    "y_pred_test_dt = decision_tree.predict(X_test)\n",
    "y_pred_val_nb = n_bayes.predict(X_val)\n",
    "y_pred_val_dt = decision_tree.predict(X_val)"
   ]
  },
  {
   "cell_type": "code",
   "execution_count": 15,
   "metadata": {},
   "outputs": [
    {
     "name": "stdout",
     "output_type": "stream",
     "text": [
      "Métricas de classificação para Multinomial Naive Bayes no conjunto de teste: \n",
      "              precision    recall  f1-score   support\n",
      "\n",
      "         0.0       0.09      0.68      0.17     14289\n",
      "         1.0       0.95      0.47      0.63    175452\n",
      "\n",
      "    accuracy                           0.48    189741\n",
      "   macro avg       0.52      0.57      0.40    189741\n",
      "weighted avg       0.88      0.48      0.59    189741\n",
      "\n",
      "\n",
      "\n",
      "Métricas de classificação para Árvore de Decisões no conjunto de teste: \n"
     ]
    },
    {
     "name": "stderr",
     "output_type": "stream",
     "text": [
      "/home/gustavo/.local/lib/python3.10/site-packages/sklearn/metrics/_classification.py:1344: UndefinedMetricWarning: Precision and F-score are ill-defined and being set to 0.0 in labels with no predicted samples. Use `zero_division` parameter to control this behavior.\n",
      "  _warn_prf(average, modifier, msg_start, len(result))\n",
      "/home/gustavo/.local/lib/python3.10/site-packages/sklearn/metrics/_classification.py:1344: UndefinedMetricWarning: Precision and F-score are ill-defined and being set to 0.0 in labels with no predicted samples. Use `zero_division` parameter to control this behavior.\n",
      "  _warn_prf(average, modifier, msg_start, len(result))\n"
     ]
    },
    {
     "name": "stdout",
     "output_type": "stream",
     "text": [
      "              precision    recall  f1-score   support\n",
      "\n",
      "         0.0       0.00      0.00      0.00     14289\n",
      "         1.0       0.92      1.00      0.96    175452\n",
      "\n",
      "    accuracy                           0.92    189741\n",
      "   macro avg       0.46      0.50      0.48    189741\n",
      "weighted avg       0.86      0.92      0.89    189741\n",
      "\n"
     ]
    },
    {
     "name": "stderr",
     "output_type": "stream",
     "text": [
      "/home/gustavo/.local/lib/python3.10/site-packages/sklearn/metrics/_classification.py:1344: UndefinedMetricWarning: Precision and F-score are ill-defined and being set to 0.0 in labels with no predicted samples. Use `zero_division` parameter to control this behavior.\n",
      "  _warn_prf(average, modifier, msg_start, len(result))\n"
     ]
    }
   ],
   "source": [
    "print(\"Métricas de classificação para Multinomial Naive Bayes no conjunto de teste: \")\n",
    "print(classification_report(y_test, y_pred_test_nb))\n",
    "print(\"\\n\")\n",
    "print(\"Métricas de classificação para Árvore de Decisões no conjunto de teste: \")\n",
    "print(classification_report(y_test, y_pred_test_dt))"
   ]
  },
  {
   "cell_type": "code",
   "execution_count": 16,
   "metadata": {},
   "outputs": [
    {
     "data": {
      "image/png": "[encoded data removed]",
      "text/plain": [
       "<Figure size 400x400 with 1 Axes>"
      ]
     },
     "metadata": {},
     "output_type": "display_data"
    }
   ],
   "source": [
    "fpr, tpr, thresholds = roc_curve(y_test, n_bayes.predict_proba(X_test)[:, 0], pos_label=0)\n",
    "roc_df = pd.DataFrame({'recall': tpr, 'specificity': 1 - fpr})\n",
    "\n",
    "ax = roc_df.plot(x='specificity', y='recall', figsize=(4, 4), legend=False)\n",
    "ax.set_ylim(0, 1)\n",
    "ax.set_xlim(1, 0)\n",
    "ax.set_xlabel('specificity')\n",
    "ax.set_ylabel('recall')\n",
    "ax.text(0.5, 0.5, f'AUC: {np.sum(roc_df.recall[:-1] * np.diff(1 - roc_df.specificity)):.3f}')\n",
    "ax.fill_between(roc_df.specificity, 0, roc_df.recall, alpha=0.3)\n",
    "\n",
    "\n",
    "plt.tight_layout()\n",
    "plt.show()"
   ]
  },
  {
   "cell_type": "code",
   "execution_count": 17,
   "metadata": {},
   "outputs": [
    {
     "data": {
      "image/png": "[encoded data removed]",
      "text/plain": [
       "<Figure size 400x400 with 1 Axes>"
      ]
     },
     "metadata": {},
     "output_type": "display_data"
    }
   ],
   "source": [
    "fpr, tpr, thresholds = roc_curve(y_test, decision_tree.predict_proba(X_test)[:, 0], pos_label=0)\n",
    "roc_df = pd.DataFrame({'recall': tpr, 'specificity': 1 - fpr})\n",
    "\n",
    "ax = roc_df.plot(x='specificity', y='recall', figsize=(4, 4), legend=False)\n",
    "ax.set_ylim(0, 1)\n",
    "ax.set_xlim(1, 0)\n",
    "ax.set_xlabel('specificity')\n",
    "ax.set_ylabel('recall')\n",
    "ax.text(0.5, 0.5, f'AUC: {np.sum(roc_df.recall[:-1] * np.diff(1 - roc_df.specificity)):.3f}')\n",
    "ax.fill_between(roc_df.specificity, 0, roc_df.recall, alpha=0.3)\n",
    "\n",
    "\n",
    "plt.tight_layout()\n",
    "plt.show()"
   ]
  }
 ],
 "metadata": {
  "kernelspec": {
   "display_name": "Python 3",
   "language": "python",
   "name": "python3"
  },
  "language_info": {
   "codemirror_mode": {
    "name": "ipython",
    "version": 3
   },
   "file_extension": ".py",
   "mimetype": "text/x-python",
   "name": "python",
   "nbconvert_exporter": "python",
   "pygments_lexer": "ipython3",
   "version": "3.10.9"
  },
  "orig_nbformat": 4
 },
 "nbformat": 4,
 "nbformat_minor": 2
}
