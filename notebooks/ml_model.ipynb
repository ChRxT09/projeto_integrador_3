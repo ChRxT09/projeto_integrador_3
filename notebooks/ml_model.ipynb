{
 "cells": [
  {
   "attachments": {},
   "cell_type": "markdown",
   "metadata": {},
   "source": [
    "# PROJETO INTEGRADOR III - Modelo de aprendizagem de máquina"
   ]
  },
  {
   "attachments": {},
   "cell_type": "markdown",
   "metadata": {},
   "source": [
    "### Parâmetros que podem ser usados para definir a aprovação:\n",
    "\n",
    "- nota (de cada área de conhecimento e com peso, mesmo que todos sejam iguais a 1);\n",
    "- cotas (vou precisar tratar isso aqui);\n",
    "- notas de corte;\n",
    "- curso (vou precisar tratar isso aqui);\n",
    "- universidade (vou precisar tratar isso aqui: campus, IES ou o que?);\n",
    "- Local da IES;\n",
    "- local do candidato;\n"
   ]
  },
  {
   "attachments": {},
   "cell_type": "markdown",
   "metadata": {},
   "source": [
    "### feature engineering\n",
    "\n",
    "pontos importantes para serem destacados:\n",
    "\n",
    "- *notas*: tratar os dados que estão fora da distribuição normal;\n",
    "- *cotas, curso e universidade*: considerar usar um target encoding ou count encoding;\n",
    "- *notas de corte*: talvez não será necessário passar por um tratamento;\n",
    "- *locais*: pode ser usado um label encoding, mas é necessário avaliar o contexto. oneHotEncoding seria muito custoso ( 27 * 2 + 54 = 108 colunas).\n"
   ]
  },
  {
   "attachments": {},
   "cell_type": "markdown",
   "metadata": {},
   "source": [
    "### Avaliação de modelo de linguagem\n",
    "precisão, recall, acurácia e área sob a curva ROC (Receiver Operating Characteristic).\n"
   ]
  },
  {
   "cell_type": "code",
   "execution_count": 65,
   "metadata": {},
   "outputs": [],
   "source": [
    "import pandas as pd\n",
    "import psycopg2 as pspg\n",
    "import seaborn as sns\n",
    "import matplotlib.pyplot as plt\n",
    "from matplotlib import colors\n",
    "from matplotlib.ticker import PercentFormatter \n",
    "from scipy import stats\n",
    "import dask.dataframe as dd\n",
    "import sqlalchemy as sql\n",
    "from category_encoders.target_encoder import TargetEncoder\n",
    "from category_encoders.count import CountEncoder\n",
    "from sklearn.preprocessing import (OrdinalEncoder, OneHotEncoder, Normalizer, StandardScaler )\n",
    "CONN = pspg.connect(database='notas', user='dev', password='dev', host='localhost', port='5030')"
   ]
  },
  {
   "cell_type": "code",
   "execution_count": 66,
   "metadata": {},
   "outputs": [
    {
     "name": "stderr",
     "output_type": "stream",
     "text": [
      "/tmp/ipykernel_7699/3420351349.py:1: UserWarning: pandas only supports SQLAlchemy connectable (engine/connection) or database string URI or sqlite3 DBAPI2 connection. Other DBAPI2 objects are not tested. Please consider using SQLAlchemy.\n",
      "  df = pd.read_sql('''\n"
     ]
    }
   ],
   "source": [
    "df = pd.read_sql('''\n",
    "  select \n",
    "    * from sisu_data\n",
    "  tablesample bernoulli(2)\n",
    "  ''', con=CONN)"
   ]
  },
  {
   "cell_type": "code",
   "execution_count": 67,
   "metadata": {},
   "outputs": [
    {
     "data": {
      "text/plain": [
       "Index(['ano', 'edicao', 'codigo_etapa', 'etapa', 'codigo_ies', 'nome_ies',\n",
       "       'sigla_ies', 'uf_ies', 'codigo_campus', 'nome_campus', 'uf_campus',\n",
       "       'municipio_campus', 'codigo_curso', 'nome_curso', 'grau', 'turno',\n",
       "       'ds_periodicidade', 'tp_cota', 'tipo_mod_concorrencia',\n",
       "       'mod_concorrencia', 'qt_vagas_concorrencia', 'percentual_bonus',\n",
       "       'peso_l', 'peso_ch', 'peso_cn', 'peso_m', 'peso_r', 'nota_minima_l',\n",
       "       'nota_minima_ch', 'nota_minima_cn', 'nota_minima_m', 'nota_minima_r',\n",
       "       'media_minima', 'cpf', 'inscricao_enem', 'inscrito', 'sexo',\n",
       "       'data_nascimento', 'uf_candidato', 'municipio_candidato', 'opcao',\n",
       "       'nota_l', 'nota_ch', 'nota_cn', 'nota_m', 'nota_r', 'nota_l_com_peso',\n",
       "       'nota_ch_com_peso', 'nota_cn_com_peso', 'nota_m_com_peso',\n",
       "       'nota_r_com_peso', 'nota_candidato', 'nota_corte', 'classificacao',\n",
       "       'aprovado', 'matricula', 'id'],\n",
       "      dtype='object')"
      ]
     },
     "execution_count": 67,
     "metadata": {},
     "output_type": "execute_result"
    }
   ],
   "source": [
    "df.columns"
   ]
  },
  {
   "cell_type": "code",
   "execution_count": 68,
   "metadata": {},
   "outputs": [
    {
     "data": {
      "text/plain": [
       "(309815, 57)"
      ]
     },
     "execution_count": 68,
     "metadata": {},
     "output_type": "execute_result"
    }
   ],
   "source": [
    "df.shape"
   ]
  },
  {
   "cell_type": "code",
   "execution_count": 69,
   "metadata": {},
   "outputs": [
    {
     "data": {
      "text/plain": [
       "6756"
      ]
     },
     "execution_count": 69,
     "metadata": {},
     "output_type": "execute_result"
    }
   ],
   "source": [
    "df['codigo_curso'].unique().size"
   ]
  },
  {
   "cell_type": "code",
   "execution_count": 70,
   "metadata": {},
   "outputs": [
    {
     "data": {
      "text/plain": [
       "array([None, 'PPI ', 'D   ', 'DD  ', 'PPID', 'PP  ', 'I   ', 'PPD '],\n",
       "      dtype=object)"
      ]
     },
     "execution_count": 70,
     "metadata": {},
     "output_type": "execute_result"
    }
   ],
   "source": [
    "df['tp_cota'].unique()"
   ]
  },
  {
   "cell_type": "code",
   "execution_count": 71,
   "metadata": {},
   "outputs": [],
   "source": [
    "atributos_numerados = ['nota_l_com_peso','nota_ch_com_peso', 'nota_cn_com_peso',\n",
    "        'nota_m_com_peso', 'nota_r_com_peso', 'nota_candidato',\n",
    "        'qt_vagas_concorrencia', 'nota_corte']"
   ]
  },
  {
   "attachments": {},
   "cell_type": "markdown",
   "metadata": {},
   "source": [
    "## ENGINEERING"
   ]
  },
  {
   "attachments": {},
   "cell_type": "markdown",
   "metadata": {},
   "source": [
    "### notas: removendo outliers"
   ]
  },
  {
   "attachments": {},
   "cell_type": "markdown",
   "metadata": {},
   "source": [
    "removendo as notas consideradas _outliers_ do conjunto de dados para fazer o treinamento "
   ]
  },
  {
   "cell_type": "code",
   "execution_count": 72,
   "metadata": {},
   "outputs": [
    {
     "data": {
      "text/plain": [
       "(25987, 57)"
      ]
     },
     "execution_count": 72,
     "metadata": {},
     "output_type": "execute_result"
    }
   ],
   "source": [
    "df_filtrado = df.copy()\n",
    "notas = ['nota_l','nota_ch', 'nota_cn',\n",
    "        'nota_m', 'nota_r', 'nota_candidato']\n",
    "\n",
    "\n",
    "for nota in notas:\n",
    "    primeiro_quartil = df[nota].quantile(0.25)\n",
    "    terceiro_quartil = df[nota].quantile(0.75)\n",
    "    iqr = terceiro_quartil - primeiro_quartil\n",
    "    limite_inferior = primeiro_quartil - 1.5 * iqr\n",
    "    limite_inferior = terceiro_quartil + 1.5 * iqr\n",
    "    df_filtrado = df_filtrado[(df_filtrado[nota] >= primeiro_quartil) & (df_filtrado[nota] <= terceiro_quartil)]\n",
    "df_filtrado.shape"
   ]
  },
  {
   "attachments": {},
   "cell_type": "markdown",
   "metadata": {},
   "source": [
    "## modalidade de concorrência: _one hot encoding_"
   ]
  },
  {
   "cell_type": "code",
   "execution_count": 85,
   "metadata": {},
   "outputs": [
    {
     "ename": "ValueError",
     "evalue": "input_features should have length equal to number of features (25987), got 1",
     "output_type": "error",
     "traceback": [
      "\u001b[0;31m---------------------------------------------------------------------------\u001b[0m",
      "\u001b[0;31mValueError\u001b[0m                                Traceback (most recent call last)",
      "Cell \u001b[0;32mIn[85], line 8\u001b[0m\n\u001b[1;32m      6\u001b[0m \u001b[39mfor\u001b[39;00m column \u001b[39min\u001b[39;00m [\u001b[39m'\u001b[39m\u001b[39mtipo_mod_concorrencia\u001b[39m\u001b[39m'\u001b[39m,  \u001b[39m'\u001b[39m\u001b[39mtp_cota\u001b[39m\u001b[39m'\u001b[39m]:\n\u001b[1;32m      7\u001b[0m     transformed \u001b[39m=\u001b[39m ohe\u001b[39m.\u001b[39mfit_transform(teste[column]\u001b[39m.\u001b[39mvalues\u001b[39m.\u001b[39mreshape(\u001b[39m1\u001b[39m, \u001b[39m-\u001b[39m\u001b[39m1\u001b[39m))\n\u001b[0;32m----> 8\u001b[0m     ohe_df \u001b[39m=\u001b[39m pd\u001b[39m.\u001b[39mDataFrame(transformed, columns\u001b[39m=\u001b[39mohe\u001b[39m.\u001b[39;49mget_feature_names_out([column]))\n\u001b[1;32m      9\u001b[0m     teste \u001b[39m=\u001b[39m pd\u001b[39m.\u001b[39mconcat([teste, ohe_df], axis\u001b[39m=\u001b[39m\u001b[39m1\u001b[39m)\n",
      "File \u001b[0;32m~/.local/lib/python3.10/site-packages/sklearn/preprocessing/_encoders.py:1102\u001b[0m, in \u001b[0;36mOneHotEncoder.get_feature_names_out\u001b[0;34m(self, input_features)\u001b[0m\n\u001b[1;32m   1082\u001b[0m \u001b[39m\u001b[39m\u001b[39m\"\"\"Get output feature names for transformation.\u001b[39;00m\n\u001b[1;32m   1083\u001b[0m \n\u001b[1;32m   1084\u001b[0m \u001b[39mParameters\u001b[39;00m\n\u001b[0;32m   (...)\u001b[0m\n\u001b[1;32m   1099\u001b[0m \u001b[39m    Transformed feature names.\u001b[39;00m\n\u001b[1;32m   1100\u001b[0m \u001b[39m\"\"\"\u001b[39;00m\n\u001b[1;32m   1101\u001b[0m check_is_fitted(\u001b[39mself\u001b[39m)\n\u001b[0;32m-> 1102\u001b[0m input_features \u001b[39m=\u001b[39m _check_feature_names_in(\u001b[39mself\u001b[39;49m, input_features)\n\u001b[1;32m   1103\u001b[0m cats \u001b[39m=\u001b[39m [\n\u001b[1;32m   1104\u001b[0m     \u001b[39mself\u001b[39m\u001b[39m.\u001b[39m_compute_transformed_categories(i)\n\u001b[1;32m   1105\u001b[0m     \u001b[39mfor\u001b[39;00m i, _ \u001b[39min\u001b[39;00m \u001b[39menumerate\u001b[39m(\u001b[39mself\u001b[39m\u001b[39m.\u001b[39mcategories_)\n\u001b[1;32m   1106\u001b[0m ]\n\u001b[1;32m   1108\u001b[0m feature_names \u001b[39m=\u001b[39m []\n",
      "File \u001b[0;32m~/.local/lib/python3.10/site-packages/sklearn/utils/validation.py:1957\u001b[0m, in \u001b[0;36m_check_feature_names_in\u001b[0;34m(estimator, input_features, generate_names)\u001b[0m\n\u001b[1;32m   1954\u001b[0m         \u001b[39mraise\u001b[39;00m \u001b[39mValueError\u001b[39;00m(\u001b[39m\"\u001b[39m\u001b[39minput_features is not equal to feature_names_in_\u001b[39m\u001b[39m\"\u001b[39m)\n\u001b[1;32m   1956\u001b[0m     \u001b[39mif\u001b[39;00m n_features_in_ \u001b[39mis\u001b[39;00m \u001b[39mnot\u001b[39;00m \u001b[39mNone\u001b[39;00m \u001b[39mand\u001b[39;00m \u001b[39mlen\u001b[39m(input_features) \u001b[39m!=\u001b[39m n_features_in_:\n\u001b[0;32m-> 1957\u001b[0m         \u001b[39mraise\u001b[39;00m \u001b[39mValueError\u001b[39;00m(\n\u001b[1;32m   1958\u001b[0m             \u001b[39m\"\u001b[39m\u001b[39minput_features should have length equal to number of \u001b[39m\u001b[39m\"\u001b[39m\n\u001b[1;32m   1959\u001b[0m             \u001b[39mf\u001b[39m\u001b[39m\"\u001b[39m\u001b[39mfeatures (\u001b[39m\u001b[39m{\u001b[39;00mn_features_in_\u001b[39m}\u001b[39;00m\u001b[39m), got \u001b[39m\u001b[39m{\u001b[39;00m\u001b[39mlen\u001b[39m(input_features)\u001b[39m}\u001b[39;00m\u001b[39m\"\u001b[39m\n\u001b[1;32m   1960\u001b[0m         )\n\u001b[1;32m   1961\u001b[0m     \u001b[39mreturn\u001b[39;00m input_features\n\u001b[1;32m   1963\u001b[0m \u001b[39mif\u001b[39;00m feature_names_in_ \u001b[39mis\u001b[39;00m \u001b[39mnot\u001b[39;00m \u001b[39mNone\u001b[39;00m:\n",
      "\u001b[0;31mValueError\u001b[0m: input_features should have length equal to number of features (25987), got 1"
     ]
    }
   ],
   "source": [
    "ohe = OneHotEncoder(sparse_output=False, handle_unknown='ignore')\n",
    "\n",
    "teste = df_filtrado[['tipo_mod_concorrencia',  'tp_cota']]\n",
    "\n",
    "\n",
    "for column in ['tipo_mod_concorrencia',  'tp_cota']:\n",
    "    transformed = ohe.fit_transform(teste[column].values.reshape(-1, 1))\n",
    "    ohe_df = pd.DataFrame(transformed, columns=ohe.get_feature_names_out([column]))\n",
    "    teste = pd.concat([teste, ohe_df], axis=1)\n"
   ]
  },
  {
   "cell_type": "code",
   "execution_count": 87,
   "metadata": {},
   "outputs": [],
   "source": [
    "df.to_csv('file',index=False )"
   ]
  },
  {
   "cell_type": "code",
   "execution_count": 84,
   "metadata": {},
   "outputs": [
    {
     "data": {
      "text/plain": [
       "25987"
      ]
     },
     "execution_count": 84,
     "metadata": {},
     "output_type": "execute_result"
    }
   ],
   "source": [
    "teste = df_filtrado[['tipo_mod_concorrencia',  'tp_cota']]\n",
    "teste[column].values.reshape(-1, 1).size"
   ]
  },
  {
   "cell_type": "code",
   "execution_count": null,
   "metadata": {},
   "outputs": [
    {
     "data": {
      "text/html": [
       "<div>\n",
       "<style scoped>\n",
       "    .dataframe tbody tr th:only-of-type {\n",
       "        vertical-align: middle;\n",
       "    }\n",
       "\n",
       "    .dataframe tbody tr th {\n",
       "        vertical-align: top;\n",
       "    }\n",
       "\n",
       "    .dataframe thead th {\n",
       "        text-align: right;\n",
       "    }\n",
       "</style>\n",
       "<table border=\"1\" class=\"dataframe\">\n",
       "  <thead>\n",
       "    <tr style=\"text-align: right;\">\n",
       "      <th></th>\n",
       "      <th>tipo_mod_concorrencia</th>\n",
       "      <th>tp_cota</th>\n",
       "      <th>tipo_mod_concorrencia_A</th>\n",
       "      <th>tipo_mod_concorrencia_B</th>\n",
       "      <th>tipo_mod_concorrencia_L</th>\n",
       "      <th>tipo_mod_concorrencia_V</th>\n",
       "      <th>tp_cota_D</th>\n",
       "      <th>tp_cota_DD</th>\n",
       "      <th>tp_cota_I</th>\n",
       "      <th>tp_cota_PP</th>\n",
       "      <th>tp_cota_PPD</th>\n",
       "      <th>tp_cota_PPI</th>\n",
       "      <th>tp_cota_PPID</th>\n",
       "      <th>tp_cota_None</th>\n",
       "      <th>tp_cota_nan</th>\n",
       "    </tr>\n",
       "  </thead>\n",
       "  <tbody>\n",
       "    <tr>\n",
       "      <th>7</th>\n",
       "      <td>A</td>\n",
       "      <td>None</td>\n",
       "      <td>0.0</td>\n",
       "      <td>0.0</td>\n",
       "      <td>1.0</td>\n",
       "      <td>0.0</td>\n",
       "      <td>0.0</td>\n",
       "      <td>0.0</td>\n",
       "      <td>0.0</td>\n",
       "      <td>0.0</td>\n",
       "      <td>0.0</td>\n",
       "      <td>1.0</td>\n",
       "      <td>0.0</td>\n",
       "      <td>0.0</td>\n",
       "      <td>0.0</td>\n",
       "    </tr>\n",
       "    <tr>\n",
       "      <th>10</th>\n",
       "      <td>A</td>\n",
       "      <td>None</td>\n",
       "      <td>0.0</td>\n",
       "      <td>0.0</td>\n",
       "      <td>1.0</td>\n",
       "      <td>0.0</td>\n",
       "      <td>0.0</td>\n",
       "      <td>0.0</td>\n",
       "      <td>0.0</td>\n",
       "      <td>0.0</td>\n",
       "      <td>0.0</td>\n",
       "      <td>1.0</td>\n",
       "      <td>0.0</td>\n",
       "      <td>0.0</td>\n",
       "      <td>0.0</td>\n",
       "    </tr>\n",
       "    <tr>\n",
       "      <th>25</th>\n",
       "      <td>A</td>\n",
       "      <td>None</td>\n",
       "      <td>0.0</td>\n",
       "      <td>0.0</td>\n",
       "      <td>1.0</td>\n",
       "      <td>0.0</td>\n",
       "      <td>1.0</td>\n",
       "      <td>0.0</td>\n",
       "      <td>0.0</td>\n",
       "      <td>0.0</td>\n",
       "      <td>0.0</td>\n",
       "      <td>0.0</td>\n",
       "      <td>0.0</td>\n",
       "      <td>0.0</td>\n",
       "      <td>0.0</td>\n",
       "    </tr>\n",
       "    <tr>\n",
       "      <th>34</th>\n",
       "      <td>L</td>\n",
       "      <td>PPI</td>\n",
       "      <td>0.0</td>\n",
       "      <td>0.0</td>\n",
       "      <td>0.0</td>\n",
       "      <td>1.0</td>\n",
       "      <td>0.0</td>\n",
       "      <td>0.0</td>\n",
       "      <td>0.0</td>\n",
       "      <td>0.0</td>\n",
       "      <td>0.0</td>\n",
       "      <td>0.0</td>\n",
       "      <td>0.0</td>\n",
       "      <td>1.0</td>\n",
       "      <td>0.0</td>\n",
       "    </tr>\n",
       "    <tr>\n",
       "      <th>40</th>\n",
       "      <td>L</td>\n",
       "      <td>PPI</td>\n",
       "      <td>1.0</td>\n",
       "      <td>0.0</td>\n",
       "      <td>0.0</td>\n",
       "      <td>0.0</td>\n",
       "      <td>0.0</td>\n",
       "      <td>0.0</td>\n",
       "      <td>0.0</td>\n",
       "      <td>0.0</td>\n",
       "      <td>0.0</td>\n",
       "      <td>0.0</td>\n",
       "      <td>0.0</td>\n",
       "      <td>1.0</td>\n",
       "      <td>0.0</td>\n",
       "    </tr>\n",
       "    <tr>\n",
       "      <th>...</th>\n",
       "      <td>...</td>\n",
       "      <td>...</td>\n",
       "      <td>...</td>\n",
       "      <td>...</td>\n",
       "      <td>...</td>\n",
       "      <td>...</td>\n",
       "      <td>...</td>\n",
       "      <td>...</td>\n",
       "      <td>...</td>\n",
       "      <td>...</td>\n",
       "      <td>...</td>\n",
       "      <td>...</td>\n",
       "      <td>...</td>\n",
       "      <td>...</td>\n",
       "      <td>...</td>\n",
       "    </tr>\n",
       "    <tr>\n",
       "      <th>49933</th>\n",
       "      <td>NaN</td>\n",
       "      <td>NaN</td>\n",
       "      <td>NaN</td>\n",
       "      <td>NaN</td>\n",
       "      <td>NaN</td>\n",
       "      <td>NaN</td>\n",
       "      <td>0.0</td>\n",
       "      <td>0.0</td>\n",
       "      <td>0.0</td>\n",
       "      <td>0.0</td>\n",
       "      <td>0.0</td>\n",
       "      <td>0.0</td>\n",
       "      <td>0.0</td>\n",
       "      <td>0.0</td>\n",
       "      <td>1.0</td>\n",
       "    </tr>\n",
       "    <tr>\n",
       "      <th>49934</th>\n",
       "      <td>NaN</td>\n",
       "      <td>NaN</td>\n",
       "      <td>NaN</td>\n",
       "      <td>NaN</td>\n",
       "      <td>NaN</td>\n",
       "      <td>NaN</td>\n",
       "      <td>0.0</td>\n",
       "      <td>0.0</td>\n",
       "      <td>0.0</td>\n",
       "      <td>0.0</td>\n",
       "      <td>0.0</td>\n",
       "      <td>0.0</td>\n",
       "      <td>0.0</td>\n",
       "      <td>0.0</td>\n",
       "      <td>1.0</td>\n",
       "    </tr>\n",
       "    <tr>\n",
       "      <th>49935</th>\n",
       "      <td>NaN</td>\n",
       "      <td>NaN</td>\n",
       "      <td>NaN</td>\n",
       "      <td>NaN</td>\n",
       "      <td>NaN</td>\n",
       "      <td>NaN</td>\n",
       "      <td>0.0</td>\n",
       "      <td>0.0</td>\n",
       "      <td>0.0</td>\n",
       "      <td>0.0</td>\n",
       "      <td>0.0</td>\n",
       "      <td>0.0</td>\n",
       "      <td>0.0</td>\n",
       "      <td>0.0</td>\n",
       "      <td>1.0</td>\n",
       "    </tr>\n",
       "    <tr>\n",
       "      <th>49936</th>\n",
       "      <td>NaN</td>\n",
       "      <td>NaN</td>\n",
       "      <td>NaN</td>\n",
       "      <td>NaN</td>\n",
       "      <td>NaN</td>\n",
       "      <td>NaN</td>\n",
       "      <td>0.0</td>\n",
       "      <td>0.0</td>\n",
       "      <td>0.0</td>\n",
       "      <td>0.0</td>\n",
       "      <td>0.0</td>\n",
       "      <td>0.0</td>\n",
       "      <td>0.0</td>\n",
       "      <td>0.0</td>\n",
       "      <td>1.0</td>\n",
       "    </tr>\n",
       "    <tr>\n",
       "      <th>49937</th>\n",
       "      <td>NaN</td>\n",
       "      <td>NaN</td>\n",
       "      <td>NaN</td>\n",
       "      <td>NaN</td>\n",
       "      <td>NaN</td>\n",
       "      <td>NaN</td>\n",
       "      <td>0.0</td>\n",
       "      <td>0.0</td>\n",
       "      <td>0.0</td>\n",
       "      <td>0.0</td>\n",
       "      <td>0.0</td>\n",
       "      <td>0.0</td>\n",
       "      <td>0.0</td>\n",
       "      <td>0.0</td>\n",
       "      <td>1.0</td>\n",
       "    </tr>\n",
       "  </tbody>\n",
       "</table>\n",
       "<p>71998 rows × 15 columns</p>\n",
       "</div>"
      ],
      "text/plain": [
       "      tipo_mod_concorrencia tp_cota  tipo_mod_concorrencia_A  \\\n",
       "7                         A    None                      0.0   \n",
       "10                        A    None                      0.0   \n",
       "25                        A    None                      0.0   \n",
       "34                        L    PPI                       0.0   \n",
       "40                        L    PPI                       1.0   \n",
       "...                     ...     ...                      ...   \n",
       "49933                   NaN     NaN                      NaN   \n",
       "49934                   NaN     NaN                      NaN   \n",
       "49935                   NaN     NaN                      NaN   \n",
       "49936                   NaN     NaN                      NaN   \n",
       "49937                   NaN     NaN                      NaN   \n",
       "\n",
       "       tipo_mod_concorrencia_B  tipo_mod_concorrencia_L  \\\n",
       "7                          0.0                      1.0   \n",
       "10                         0.0                      1.0   \n",
       "25                         0.0                      1.0   \n",
       "34                         0.0                      0.0   \n",
       "40                         0.0                      0.0   \n",
       "...                        ...                      ...   \n",
       "49933                      NaN                      NaN   \n",
       "49934                      NaN                      NaN   \n",
       "49935                      NaN                      NaN   \n",
       "49936                      NaN                      NaN   \n",
       "49937                      NaN                      NaN   \n",
       "\n",
       "       tipo_mod_concorrencia_V  tp_cota_D     tp_cota_DD    tp_cota_I     \\\n",
       "7                          0.0           0.0           0.0           0.0   \n",
       "10                         0.0           0.0           0.0           0.0   \n",
       "25                         0.0           1.0           0.0           0.0   \n",
       "34                         1.0           0.0           0.0           0.0   \n",
       "40                         0.0           0.0           0.0           0.0   \n",
       "...                        ...           ...           ...           ...   \n",
       "49933                      NaN           0.0           0.0           0.0   \n",
       "49934                      NaN           0.0           0.0           0.0   \n",
       "49935                      NaN           0.0           0.0           0.0   \n",
       "49936                      NaN           0.0           0.0           0.0   \n",
       "49937                      NaN           0.0           0.0           0.0   \n",
       "\n",
       "       tp_cota_PP    tp_cota_PPD   tp_cota_PPI   tp_cota_PPID  tp_cota_None  \\\n",
       "7               0.0           0.0           1.0           0.0           0.0   \n",
       "10              0.0           0.0           1.0           0.0           0.0   \n",
       "25              0.0           0.0           0.0           0.0           0.0   \n",
       "34              0.0           0.0           0.0           0.0           1.0   \n",
       "40              0.0           0.0           0.0           0.0           1.0   \n",
       "...             ...           ...           ...           ...           ...   \n",
       "49933           0.0           0.0           0.0           0.0           0.0   \n",
       "49934           0.0           0.0           0.0           0.0           0.0   \n",
       "49935           0.0           0.0           0.0           0.0           0.0   \n",
       "49936           0.0           0.0           0.0           0.0           0.0   \n",
       "49937           0.0           0.0           0.0           0.0           0.0   \n",
       "\n",
       "       tp_cota_nan  \n",
       "7              0.0  \n",
       "10             0.0  \n",
       "25             0.0  \n",
       "34             0.0  \n",
       "40             0.0  \n",
       "...            ...  \n",
       "49933          1.0  \n",
       "49934          1.0  \n",
       "49935          1.0  \n",
       "49936          1.0  \n",
       "49937          1.0  \n",
       "\n",
       "[71998 rows x 15 columns]"
      ]
     },
     "execution_count": 82,
     "metadata": {},
     "output_type": "execute_result"
    }
   ],
   "source": [
    "teste"
   ]
  },
  {
   "cell_type": "code",
   "execution_count": 75,
   "metadata": {},
   "outputs": [],
   "source": [
    "# colunas_necessárias\n",
    "ml_params = [\n",
    "    'nota_l_com_peso',          #ok\n",
    "    'nota_ch_com_peso',         #ok\n",
    "    'nota_cn_com_peso',         #ok\n",
    "    'nota_m_com_peso',          #ok\n",
    "    'nota_r_com_peso',          #ok\n",
    "    'nota_candidato',           #ok\n",
    "    'nota_corte',               # pegar a média do curso por universidade?\n",
    "\n",
    "#    'qt_vagas_concorrencia',    # ajudaria muito, mas tem muitos registros NaN. sem chances de usar\n",
    "\n",
    "    # tipo_mod_concorrencia com oneHotEncoder\n",
    "    'tipo_mod_concorrencia_A',\n",
    "    'tipo_mod_concorrencia_B',\n",
    "    'tipo_mod_concorrencia_L',\n",
    "    'tipo_mod_concorrencia_V',\n",
    "\n",
    "    'uf_campus',\n",
    "    'uf_candidato',\n",
    "    #    'tp_cota',\n",
    "    # tp_cota com oneHotEncoder\n",
    "    'tp_cota_D',\n",
    "    'tp_cota_DD',\n",
    "    'tp_cota_I',\n",
    "    'tp_cota_PP',\n",
    "    'tp_cota_PPD',\n",
    "    'tp_cota_None'\n",
    "]\n",
    "\n",
    "output_desejado = 'aprovado'"
   ]
  },
  {
   "cell_type": "code",
   "execution_count": 76,
   "metadata": {},
   "outputs": [
    {
     "data": {
      "text/html": [
       "<div>\n",
       "<style scoped>\n",
       "    .dataframe tbody tr th:only-of-type {\n",
       "        vertical-align: middle;\n",
       "    }\n",
       "\n",
       "    .dataframe tbody tr th {\n",
       "        vertical-align: top;\n",
       "    }\n",
       "\n",
       "    .dataframe thead th {\n",
       "        text-align: right;\n",
       "    }\n",
       "</style>\n",
       "<table border=\"1\" class=\"dataframe\">\n",
       "  <thead>\n",
       "    <tr style=\"text-align: right;\">\n",
       "      <th></th>\n",
       "      <th>nota_candidato</th>\n",
       "      <th>uf_candidato</th>\n",
       "    </tr>\n",
       "  </thead>\n",
       "  <tbody>\n",
       "    <tr>\n",
       "      <th>0</th>\n",
       "      <td>648.55</td>\n",
       "      <td>RJ</td>\n",
       "    </tr>\n",
       "    <tr>\n",
       "      <th>1</th>\n",
       "      <td>647.67</td>\n",
       "      <td>RJ</td>\n",
       "    </tr>\n",
       "    <tr>\n",
       "      <th>2</th>\n",
       "      <td>728.01</td>\n",
       "      <td>RJ</td>\n",
       "    </tr>\n",
       "    <tr>\n",
       "      <th>3</th>\n",
       "      <td>568.56</td>\n",
       "      <td>SP</td>\n",
       "    </tr>\n",
       "    <tr>\n",
       "      <th>4</th>\n",
       "      <td>682.76</td>\n",
       "      <td>RJ</td>\n",
       "    </tr>\n",
       "    <tr>\n",
       "      <th>...</th>\n",
       "      <td>...</td>\n",
       "      <td>...</td>\n",
       "    </tr>\n",
       "    <tr>\n",
       "      <th>309810</th>\n",
       "      <td>580.45</td>\n",
       "      <td>RJ</td>\n",
       "    </tr>\n",
       "    <tr>\n",
       "      <th>309811</th>\n",
       "      <td>553.82</td>\n",
       "      <td>RJ</td>\n",
       "    </tr>\n",
       "    <tr>\n",
       "      <th>309812</th>\n",
       "      <td>631.48</td>\n",
       "      <td>RJ</td>\n",
       "    </tr>\n",
       "    <tr>\n",
       "      <th>309813</th>\n",
       "      <td>659.53</td>\n",
       "      <td>RJ</td>\n",
       "    </tr>\n",
       "    <tr>\n",
       "      <th>309814</th>\n",
       "      <td>510.53</td>\n",
       "      <td>RJ</td>\n",
       "    </tr>\n",
       "  </tbody>\n",
       "</table>\n",
       "<p>309815 rows × 2 columns</p>\n",
       "</div>"
      ],
      "text/plain": [
       "        nota_candidato uf_candidato\n",
       "0               648.55           RJ\n",
       "1               647.67           RJ\n",
       "2               728.01           RJ\n",
       "3               568.56           SP\n",
       "4               682.76           RJ\n",
       "...                ...          ...\n",
       "309810          580.45           RJ\n",
       "309811          553.82           RJ\n",
       "309812          631.48           RJ\n",
       "309813          659.53           RJ\n",
       "309814          510.53           RJ\n",
       "\n",
       "[309815 rows x 2 columns]"
      ]
     },
     "execution_count": 76,
     "metadata": {},
     "output_type": "execute_result"
    }
   ],
   "source": [
    "ufs_ordenados = df[['nota_candidato', 'uf_candidato']]\n",
    "ufs_ordenados"
   ]
  },
  {
   "cell_type": "code",
   "execution_count": 77,
   "metadata": {},
   "outputs": [],
   "source": [
    "# le = OrdinalEncoder()\n",
    "\n",
    "\n",
    "\n",
    "# fitter = le.fit()\n",
    "\n",
    "# ufs = le.fit_transform(ufs_ordenados['uf_candidato'].values.reshape(-1, 1))\n",
    "# ufs"
   ]
  }
 ],
 "metadata": {
  "kernelspec": {
   "display_name": "Python 3",
   "language": "python",
   "name": "python3"
  },
  "language_info": {
   "codemirror_mode": {
    "name": "ipython",
    "version": 3
   },
   "file_extension": ".py",
   "mimetype": "text/x-python",
   "name": "python",
   "nbconvert_exporter": "python",
   "pygments_lexer": "ipython3",
   "version": "3.10.9"
  },
  "orig_nbformat": 4
 },
 "nbformat": 4,
 "nbformat_minor": 2
}
